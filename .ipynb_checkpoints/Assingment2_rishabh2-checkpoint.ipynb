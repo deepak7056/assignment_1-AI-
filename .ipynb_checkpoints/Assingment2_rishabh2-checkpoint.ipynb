{
 "cells": [
  {
   "cell_type": "markdown",
   "id": "5e24b882-6ae0-4100-a792-74bcad37c8d3",
   "metadata": {},
   "source": [
    "# Name : Deepak\n",
    "# Course : MCA\n",
    "# Roll no: 2301560005"
   ]
  },
  {
   "cell_type": "markdown",
   "id": "7307ff1c-2267-4488-b46c-5d0ee2a7ff01",
   "metadata": {},
   "source": [
    "# Import dataset and store it in a variable called (df) and performing some operations"
   ]
  },
  {
   "cell_type": "code",
   "execution_count": null,
   "id": "f48c1c8b",
   "metadata": {},
   "outputs": [],
   "source": [
    "import pandas as pd\n",
    "df = pd.read_csv(\"Automobile_data.csv\")\n",
    "df.head(5)"
   ]
  },
  {
   "cell_type": "code",
   "execution_count": null,
   "id": "afab1b0d-e1b0-41c9-8523-a0bc8955e42e",
   "metadata": {},
   "outputs": [],
   "source": [
    "import pandas as pd\n",
    "import numpy as np\n",
    "url = 'https://raw.githubusercontent.com/justmarkham/DAT8/master/data/chipotle.tsv'\n",
    "df = pd.read_csv(url, sep = '\\t')"
   ]
  },
  {
   "cell_type": "code",
   "execution_count": null,
   "id": "04fb5926",
   "metadata": {},
   "outputs": [],
   "source": [
    "print(df.head(10))"
   ]
  },
  {
   "cell_type": "code",
   "execution_count": null,
   "id": "c482cf1c",
   "metadata": {},
   "outputs": [],
   "source": [
    "df.shape[0]\n",
    "df.info()"
   ]
  },
  {
   "cell_type": "code",
   "execution_count": null,
   "id": "e5bfb08b",
   "metadata": {},
   "outputs": [],
   "source": [
    "df = pd.read_csv(\"Automobile_data.csv\", na_values={\n",
    "'price':[\"?\",\"n.a\"],\n",
    "'stroke':[\"?\",\"n.a\"],\n",
    "'horsepower':[\"?\",\"n.a\"],\n",
    "'peak-rpm':[\"?\",\"n.a\"],\n",
    "'average-mileage':[\"?\",\"n.a\"]})\n",
    "print (df)\n",
    "\n",
    "df.to_csv(\"Automobile_data.csv\")"
   ]
  },
  {
   "cell_type": "code",
   "execution_count": null,
   "id": "b8d7bb77",
   "metadata": {},
   "outputs": [],
   "source": [
    "df.columns"
   ]
  },
  {
   "cell_type": "code",
   "execution_count": null,
   "id": "ce6e1a6b",
   "metadata": {},
   "outputs": [],
   "source": [
    "df.index"
   ]
  },
  {
   "cell_type": "code",
   "execution_count": null,
   "id": "3f197e45",
   "metadata": {
    "scrolled": true
   },
   "outputs": [],
   "source": [
    "car_Manufacturers = df.groupby('company')\n",
    "toyotaDf = car_Manufacturers.get_group('toyota')\n",
    "toyotaDf"
   ]
  },
  {
   "cell_type": "code",
   "execution_count": null,
   "id": "4cd29403",
   "metadata": {},
   "outputs": [],
   "source": [
    "car_Manufacturer = df.groupby('company')\n",
    "price = car_Manufacturer[['company','price']].max()\n",
    "price"
   ]
  },
  {
   "cell_type": "code",
   "execution_count": null,
   "id": "2e17d9a8",
   "metadata": {},
   "outputs": [],
   "source": [
    "car_Manuf = df.groupby('company')\n",
    "mileageDf = car_Manuf[['company','average-mileage']].mean(numeric_only=True)\n",
    "mileageDf"
   ]
  },
  {
   "cell_type": "code",
   "execution_count": null,
   "id": "7a955c34",
   "metadata": {},
   "outputs": [],
   "source": [
    "df.company.dtype"
   ]
  },
  {
   "cell_type": "code",
   "execution_count": null,
   "id": "58bb5ac1",
   "metadata": {},
   "outputs": [],
   "source": [
    "revenue = (df['index']* df['length']).sum()\n",
    "print('Revenue was: $' + str(np.round(revenue,2)))"
   ]
  },
  {
   "cell_type": "code",
   "execution_count": null,
   "id": "3e67adb2",
   "metadata": {},
   "outputs": [],
   "source": [
    "orders = df.company.value_counts().count()\n",
    "orders"
   ]
  },
  {
   "cell_type": "markdown",
   "id": "ad14d48d",
   "metadata": {},
   "source": [
    "# Filtering and sorting exercise"
   ]
  },
  {
   "cell_type": "code",
   "execution_count": null,
   "id": "1e86f338",
   "metadata": {},
   "outputs": [],
   "source": [
    "# Step 2. Import the dataset from this address.\n",
    "\n",
    "# Step 3. Assign it to a variable called game."
   ]
  },
  {
   "cell_type": "code",
   "execution_count": null,
   "id": "610c93f8",
   "metadata": {},
   "outputs": [],
   "source": [
    "game = pd.read_csv('https://raw.githubusercontent.com/guipsamora/pandas_exercises/master/02_Filtering_%26_Sorting/Euro12/Euro_2012_stats_TEAM.csv', sep=',')\n",
    "game"
   ]
  },
  {
   "cell_type": "code",
   "execution_count": null,
   "id": "1e5fdb91",
   "metadata": {},
   "outputs": [],
   "source": [
    "#Step 4 Select only the goal coloumn\n",
    "game.Goals"
   ]
  },
  {
   "cell_type": "code",
   "execution_count": null,
   "id": "7bfe3e75",
   "metadata": {},
   "outputs": [],
   "source": [
    "#Step 5. How many team participated in the Euro2012?\n",
    "game.shape[0]"
   ]
  },
  {
   "cell_type": "code",
   "execution_count": null,
   "id": "f9d5cff4",
   "metadata": {},
   "outputs": [],
   "source": [
    "#Step 6. What is the number of columns in the dataset?\n",
    "game.info"
   ]
  },
  {
   "cell_type": "code",
   "execution_count": null,
   "id": "e3b5bfee",
   "metadata": {},
   "outputs": [],
   "source": [
    "#Step 7. View only the columns Team, Yellow Cards and Red Cards and assign them to a dataframe called discipline\n",
    "disc = game[['Team', 'Yellow Cards', 'Red Cards']]\n",
    "disc"
   ]
  },
  {
   "cell_type": "code",
   "execution_count": null,
   "id": "f239998a",
   "metadata": {},
   "outputs": [],
   "source": [
    "#Step 8. Sort the teams by Red Cards, then to Yellow Cards\n",
    "disc.sort_values(['Red Cards', 'Yellow Cards'], ascending = False)"
   ]
  },
  {
   "cell_type": "code",
   "execution_count": null,
   "id": "67b89305",
   "metadata": {},
   "outputs": [],
   "source": [
    "#Step 9. Calculate the mean Yellow Cards given per Team\n",
    "round(disc['Yellow Cards'].mean())"
   ]
  },
  {
   "cell_type": "code",
   "execution_count": null,
   "id": "8b539a44",
   "metadata": {},
   "outputs": [],
   "source": [
    "#Step 10. Filter teams that scored more than 6 goals\n",
    "game[game.Goals > 6]"
   ]
  },
  {
   "cell_type": "code",
   "execution_count": null,
   "id": "e62b6343",
   "metadata": {},
   "outputs": [],
   "source": [
    "#Step 11. Select the teams that start with G\n",
    "game[game.Team.str.startswith('G')]"
   ]
  },
  {
   "cell_type": "code",
   "execution_count": null,
   "id": "e4c55dfa",
   "metadata": {},
   "outputs": [],
   "source": [
    "#Step 12. Select the first 7 columns\n",
    "game.iloc[: , 0:7]"
   ]
  },
  {
   "cell_type": "code",
   "execution_count": null,
   "id": "e38ebbb4",
   "metadata": {},
   "outputs": [],
   "source": [
    "#Step 13. Select all columns except the last 3.\n",
    "game.iloc[: , :-5]\n"
   ]
  },
  {
   "cell_type": "code",
   "execution_count": null,
   "id": "acab5ee9",
   "metadata": {},
   "outputs": [],
   "source": [
    "#Step 14. Present only the Shooting Accuracy from England, Italy and Russia\n",
    "game.loc[game.Team.isin(['England', 'Italy', 'Russia']), ['Team','Shooting Accuracy']]"
   ]
  },
  {
   "cell_type": "markdown",
   "id": "f42c49c4",
   "metadata": {},
   "source": [
    "# Group by  excercise"
   ]
  },
  {
   "cell_type": "code",
   "execution_count": null,
   "id": "f79db18f",
   "metadata": {},
   "outputs": [],
   "source": [
    "#step 1. Import the necessary libraries\n",
    "#Step 2. Import the dataset.\n",
    "#Step 3. Assign it to a variable called drnk.\n",
    "drd = pd.read_csv('https://raw.githubusercontent.com/justmarkham/DAT8/master/data/drinks.csv')\n",
    "drd.head()"
   ]
  },
  {
   "cell_type": "code",
   "execution_count": null,
   "id": "18800f73",
   "metadata": {},
   "outputs": [],
   "source": [
    "#Step 4. Which continent drinks more beer on average?\n",
    "drd.groupby('continent').beer_servings.mean()"
   ]
  },
  {
   "cell_type": "code",
   "execution_count": null,
   "id": "0e26e3b1",
   "metadata": {},
   "outputs": [],
   "source": [
    "#Step 5. For each continent print the statistics for wine consumption.\n",
    "drd.groupby('continent').wine_servings.describe()"
   ]
  },
  {
   "cell_type": "code",
   "execution_count": null,
   "id": "970dbb7a",
   "metadata": {},
   "outputs": [],
   "source": [
    "#Step 6. Print the mean alcohol consumption per continent for every column\n",
    "drd.groupby('continent').spirit_servings.agg(['mean'])"
   ]
  },
  {
   "cell_type": "code",
   "execution_count": null,
   "id": "df6bbe8e",
   "metadata": {},
   "outputs": [],
   "source": [
    "#Step 7. Print the median alcohol consumption per continent for every column\n",
    "drd.groupby('continent').spirit_servings.agg(['median'])"
   ]
  },
  {
   "cell_type": "code",
   "execution_count": null,
   "id": "46e6f11a",
   "metadata": {},
   "outputs": [],
   "source": [
    "#Step 8. Print the mean, min,max and median values for spirit consumption.\n",
    "#This time output a DataFrame\n",
    "drd.groupby('continent').spirit_servings.agg(['mean', 'min', 'max','median'])"
   ]
  },
  {
   "cell_type": "markdown",
   "id": "8a4a451e",
   "metadata": {},
   "source": [
    "# Apply method"
   ]
  },
  {
   "cell_type": "code",
   "execution_count": null,
   "id": "f6dfd3c2",
   "metadata": {},
   "outputs": [],
   "source": [
    "#Step 1. Import the necessary libraries\n",
    "#Step 2. Import the dataset from this address.\n",
    "#Step 3. Assign it to a variable called df.\n",
    "csv_url = 'https://raw.githubusercontent.com/guipsamora/pandas_exercises/master/04_Apply/Students_Alcohol_Consumption/student-mat.csv'\n",
    "df = pd.read_csv(csv_url)\n",
    "df.head()"
   ]
  },
  {
   "cell_type": "code",
   "execution_count": null,
   "id": "fef728f9",
   "metadata": {},
   "outputs": [],
   "source": [
    "#Step 4. For the purpose of this exercise slice the dataframe from 'school' until the 'guardian' column\n",
    "stud_al = df.loc[: , \"school\":\"guardian\"]\n",
    "stud_al.head()"
   ]
  },
  {
   "cell_type": "code",
   "execution_count": null,
   "id": "e6deaf3e",
   "metadata": {},
   "outputs": [],
   "source": [
    "#Step 5. Create a lambda function that will capitalize strings.\n",
    "capitalizer = lambda x: x.capitalize()"
   ]
  },
  {
   "cell_type": "code",
   "execution_count": null,
   "id": "2d0bbfaf",
   "metadata": {},
   "outputs": [],
   "source": [
    "#Step 6. Capitalize both Mjob and Fjob\n",
    "stud_al['Mjob'].apply(capitalizer)\n",
    "stud_al['Fjob'].apply(capitalizer)"
   ]
  },
  {
   "cell_type": "code",
   "execution_count": null,
   "id": "c29810c8",
   "metadata": {},
   "outputs": [],
   "source": [
    "#Step 7. Print the last elements of the data set.\n",
    "stud_al.tail()"
   ]
  },
  {
   "cell_type": "code",
   "execution_count": null,
   "id": "f193d6dd",
   "metadata": {},
   "outputs": [],
   "source": [
    "#Step 8. Did you notice the original dataframe is still lowercase? Why is that? Fix it and capitalize Mjob and Fjob.\n",
    "stud_al['Mjob'] = stud_al['Mjob'].apply(capitalizer)\n",
    "stud_al['Fjob'] = stud_al['Fjob'].apply(capitalizer)\n",
    "stud_al.tail()"
   ]
  },
  {
   "cell_type": "code",
   "execution_count": null,
   "id": "1aa9aa2e",
   "metadata": {},
   "outputs": [],
   "source": [
    "#Step 9. Create a function called majority that returns a boolean value to a new column called legal_drinker (Consider majority as older than 17 years old)\n",
    "def majority(x):\n",
    "    if x > 17:\n",
    "        return True\n",
    "    else:\n",
    "        return False"
   ]
  },
  {
   "cell_type": "code",
   "execution_count": null,
   "id": "f6a7a3a5",
   "metadata": {},
   "outputs": [],
   "source": [
    "stud_al['legal_drinker'] = stud_al['age'].apply(majority)\n",
    "stud_al.head()"
   ]
  },
  {
   "cell_type": "code",
   "execution_count": null,
   "id": "e7a12760",
   "metadata": {},
   "outputs": [],
   "source": [
    "#Step 10. Multiply every number of the dataset by 10.\n",
    "#I know this makes no sense, don't forget it is just an exercise\n",
    "def times10(x):\n",
    "    if type(x) is int:\n",
    "        return 10 * x\n",
    "    return x\n",
    "stud_al.applymap(times10).head(10)"
   ]
  },
  {
   "cell_type": "markdown",
   "id": "21b6b86a",
   "metadata": {},
   "source": [
    "# Merge"
   ]
  },
  {
   "cell_type": "code",
   "execution_count": null,
   "id": "48dc0b3a",
   "metadata": {},
   "outputs": [],
   "source": [
    "#Step 1. Import the necessary libraries\n",
    "#Step 2. Import the first dataset car1 and car2.\n",
    "#Step 3. Assign each to a to a variable called car1 and car2\n",
    "car1 = pd.read_csv(\"https://raw.githubusercontent.com/guipsamora/pandas_exercises/master/05_Merge/Auto_MPG/cars1.csv\")\n",
    "car2 = pd.read_csv(\"https://raw.githubusercontent.com/guipsamora/pandas_exercises/master/05_Merge/Auto_MPG/cars2.csv\")\n",
    "\n",
    "print(car1.head())\n",
    "print(car2.head())"
   ]
  },
  {
   "cell_type": "code",
   "execution_count": null,
   "id": "f54ab816",
   "metadata": {},
   "outputs": [],
   "source": [
    "#Step 4. Oops, it seems our first dataset has some unnamed blank columns, fix cars1\n",
    "car1 = car1.loc[:, \"mpg\":\"car\"]\n",
    "print(type(car1))\n",
    "car1.head()"
   ]
  },
  {
   "cell_type": "code",
   "execution_count": null,
   "id": "91fa9061",
   "metadata": {},
   "outputs": [],
   "source": [
    "#Step 5. What is the number of observations in each dataset?\n",
    "print(car1.shape)\n",
    "print(car2.shape)"
   ]
  },
  {
   "cell_type": "code",
   "execution_count": null,
   "id": "baa2d826",
   "metadata": {},
   "outputs": [],
   "source": [
    "#Step 6. Join car1 and car2 into a single DataFrame called cars\n",
    "cars = pd.concat([car1,car2])\n",
    "cars"
   ]
  },
  {
   "cell_type": "code",
   "execution_count": null,
   "id": "3af71fce",
   "metadata": {},
   "outputs": [],
   "source": [
    "nr_ownr = np.random.randint(15000, high=73001, size=398, dtype='l')\n",
    "nr_ownr"
   ]
  },
  {
   "cell_type": "code",
   "execution_count": null,
   "id": "bf896de4",
   "metadata": {},
   "outputs": [],
   "source": [
    "cars['owners'] = nr_ownr\n",
    "cars.tail()"
   ]
  },
  {
   "cell_type": "markdown",
   "id": "bb4db26c",
   "metadata": {},
   "source": [
    "# Data Vizualization"
   ]
  },
  {
   "cell_type": "code",
   "execution_count": null,
   "id": "e87cc9fb",
   "metadata": {},
   "outputs": [],
   "source": [
    "# Step 1. Import the necessary libraries\n",
    "import matplotlib.pyplot as plt\n",
    "import seaborn as sns\n",
    "\n",
    "# set the graphs to show in the jupyter notebook\n",
    "%matplotlib inline\n",
    "\n",
    "# set seaborn graphs to a better style\n",
    "sns.set(style=\"ticks\")"
   ]
  },
  {
   "cell_type": "code",
   "execution_count": null,
   "id": "ace33efd",
   "metadata": {},
   "outputs": [],
   "source": [
    "#Step 2. Import the dataset from this address.\n",
    "#Step 3. Assign it to a variable called online_rt\n",
    "#Note: if you receive a utf-8 decode error, set encoding = 'latin1' in pd.read_csv().\n",
    "\n",
    "path = 'https://raw.githubusercontent.com/guipsamora/pandas_exercises/master/07_Visualization/Online_Retail/Online_Retail.csv'\n",
    "\n",
    "onl_rt = pd.read_csv(path, encoding = 'latin1')\n",
    "\n",
    "onl_rt.head()"
   ]
  },
  {
   "cell_type": "code",
   "execution_count": null,
   "id": "ce3ea080",
   "metadata": {},
   "outputs": [],
   "source": [
    "#Step 4. Create a histogram with the 10 countries that have the most 'Quantity' ordered except UK\n",
    "# group by the Country\n",
    "countries = onl_rt.groupby('Country').sum()\n",
    "\n",
    "# sort the value and get the first 10 after UK\n",
    "countries = countries.sort_values(by = 'Quantity',ascending = False)[1:11]\n",
    "\n",
    "# create the plot\n",
    "countries['Quantity'].plot(kind='bar')\n",
    "\n",
    "# Set the title and labels\n",
    "plt.xlabel('Countries')\n",
    "plt.ylabel('Quantity')\n",
    "plt.title('10 Countries with most orders')\n",
    "\n",
    "# show the plot\n",
    "plt.show()"
   ]
  },
  {
   "cell_type": "code",
   "execution_count": null,
   "id": "a207d5b2",
   "metadata": {},
   "outputs": [],
   "source": [
    "onl_rt = onl_rt[onl_rt.Quantity > 0]\n",
    "onl_rt.head()"
   ]
  },
  {
   "cell_type": "code",
   "execution_count": null,
   "id": "c5aa0090",
   "metadata": {},
   "outputs": [],
   "source": []
  }
 ],
 "metadata": {
  "kernelspec": {
   "display_name": "Python 3 (ipykernel)",
   "language": "python",
   "name": "python3"
  },
  "language_info": {
   "codemirror_mode": {
    "name": "ipython",
    "version": 3
   },
   "file_extension": ".py",
   "mimetype": "text/x-python",
   "name": "python",
   "nbconvert_exporter": "python",
   "pygments_lexer": "ipython3",
   "version": "3.11.5"
  }
 },
 "nbformat": 4,
 "nbformat_minor": 5
}
